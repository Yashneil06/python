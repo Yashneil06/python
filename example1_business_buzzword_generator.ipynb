{
  "nbformat": 4,
  "nbformat_minor": 0,
  "metadata": {
    "colab": {
      "name": "example1 business buzzword generator.ipynb",
      "provenance": [],
      "collapsed_sections": [],
      "authorship_tag": "ABX9TyM2kID1JhgwWQz5mkAchTAc",
      "include_colab_link": true
    },
    "kernelspec": {
      "name": "python3",
      "display_name": "Python 3"
    },
    "language_info": {
      "name": "python"
    }
  },
  "cells": [
    {
      "cell_type": "markdown",
      "metadata": {
        "id": "view-in-github",
        "colab_type": "text"
      },
      "source": [
        "<a href=\"https://colab.research.google.com/github/Yashneil06/python/blob/main/example1_business_buzzword_generator.ipynb\" target=\"_parent\"><img src=\"https://colab.research.google.com/assets/colab-badge.svg\" alt=\"Open In Colab\"/></a>"
      ]
    },
    {
      "cell_type": "code",
      "execution_count": null,
      "metadata": {
        "id": "KCCQvctOJ-19"
      },
      "outputs": [],
      "source": [
        ""
      ]
    },
    {
      "cell_type": "code",
      "execution_count": 8,
      "metadata": {
        "id": "6b9a2fc6-f8ae-4778-a5e7-9659136091fd"
      },
      "outputs": [],
      "source": [
        "# importing the random module\n",
        "import random\n"
      ]
    },
    {
      "cell_type": "code",
      "execution_count": 6,
      "metadata": {
        "id": "52db4e24-c2e3-46f2-8a96-0fece1f437f2"
      },
      "outputs": [],
      "source": [
        "#  make three lists, one of buzzwords, one of actions, and one of outcomes\n",
        "# Realise Effective Drawing, Create Appealing Presentation, Learn Professional coding\n",
        "\n",
        "buzzword = [\"Realise\", \"Create\", \"Learn\"]\n",
        "actions = [\"Effective\",  \"Appealing\", \"Professional\"]\n",
        "outcomes = [\"Drawing\", \"Presentation\", \"coding\"]\n"
      ]
    },
    {
      "cell_type": "code",
      "execution_count": 9,
      "metadata": {
        "id": "2538b8fa-1dc9-4bfd-84d8-6753b9a88218"
      },
      "outputs": [],
      "source": [
        "# randomly choose one buzzword, action, and outcome from each list\n",
        "buzz = random.choice(buzzword)\n",
        "act = random.choice(actions)\n",
        "out = random.choice(outcomes)\n"
      ]
    },
    {
      "cell_type": "code",
      "execution_count": 12,
      "metadata": {
        "id": "95c40fea-40d0-49e6-afe5-c181da731368"
      },
      "outputs": [],
      "source": [
        "# build the phrase by \"adding\" the words together\n",
        "message = (\"The buzzword is \" + buzz + \" The action is \" + act + \" The out is \"+ out)\n",
        "message2 = buzz + \" \" + act+ \" \" + out\n"
      ]
    },
    {
      "cell_type": "code",
      "execution_count": 13,
      "metadata": {
        "id": "3e36c71d-ef4b-40d5-ac7f-a7717460e28f",
        "colab": {
          "base_uri": "https://localhost:8080/"
        },
        "outputId": "6094f38d-3142-48db-a4e5-6b68c160532c"
      },
      "outputs": [
        {
          "output_type": "stream",
          "name": "stdout",
          "text": [
            "The buzzword is Learn The action is Professional The out is coding\n",
            "Learn Professional coding\n"
          ]
        }
      ],
      "source": [
        "# output the phrase\n",
        "print(message)\n",
        "print(message2)"
      ]
    }
  ]
}