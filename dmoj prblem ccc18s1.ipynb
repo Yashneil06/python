{
  "nbformat": 4,
  "nbformat_minor": 0,
  "metadata": {
    "colab": {
      "name": "Untitled2.ipynb",
      "provenance": [],
      "authorship_tag": "ABX9TyNUfMfkumY0tosEjgJfbcoW",
      "include_colab_link": true
    },
    "kernelspec": {
      "name": "python3",
      "display_name": "Python 3"
    },
    "language_info": {
      "name": "python"
    }
  },
  "cells": [
    {
      "cell_type": "markdown",
      "metadata": {
        "id": "view-in-github",
        "colab_type": "text"
      },
      "source": [
        "<a href=\"https://colab.research.google.com/github/Yashneil06/python/blob/main/dmoj%20prblem%20ccc18s1.ipynb\" target=\"_parent\"><img src=\"https://colab.research.google.com/assets/colab-badge.svg\" alt=\"Open In Colab\"/></a>"
      ]
    },
    {
      "cell_type": "code",
      "execution_count": null,
      "metadata": {
        "id": "5gRsvF0fyhZ9"
      },
      "outputs": [],
      "source": [
        "N = int(input('Input number of village'))\n",
        "\n",
        "v = list() \n",
        "for j in range(N):\n",
        "    v.append(float(input()))\n",
        "\n",
        "\n",
        "dist = list()\n",
        "\n",
        "\n",
        "v.sort()\n",
        "\n",
        "\n",
        "for j in range(1, N - 1):\n",
        "    dist.append( (v[j+1] - v[j]) / 2 + (v[j] - v[j - 1]) / 2 )\n",
        "\n",
        "\n",
        "dist.sort()\n",
        "\n",
        "print(dist[0])"
      ]
    }
  ]
}