{
  "nbformat": 4,
  "nbformat_minor": 0,
  "metadata": {
    "colab": {
      "name": "Copy of sale_price.ipynb",
      "provenance": [],
      "include_colab_link": true
    },
    "kernelspec": {
      "name": "python3",
      "display_name": "Python 3"
    },
    "language_info": {
      "name": "python"
    }
  },
  "cells": [
    {
      "cell_type": "markdown",
      "metadata": {
        "id": "view-in-github",
        "colab_type": "text"
      },
      "source": [
        "<a href=\"https://colab.research.google.com/github/Yashneil06/python/blob/week4/Copy_of_sale_price.ipynb\" target=\"_parent\"><img src=\"https://colab.research.google.com/assets/colab-badge.svg\" alt=\"Open In Colab\"/></a>"
      ]
    },
    {
      "cell_type": "markdown",
      "metadata": {
        "id": "cgTeiXOtSPjH"
      },
      "source": [
        "# Sales Price\n",
        "\n",
        "A local department store needs to develop a program that will computer the total price (including goods and services tax) of the item on sale when given an item's original price and discount percentage.\n",
        "\n",
        "## Tasks\n",
        "* Save to Github\n",
        "* Design Algorithm\n",
        "* Write and test the program in Python"
      ]
    },
    {
      "cell_type": "code",
      "metadata": {
        "id": "pPIN2ZcrSqdw"
      },
      "source": [
        "originalprice = 40\n",
        "discount= 0.3\n",
        "tax = 0.07\n",
        "def calculate_totalprice(originalprice, discount, tax):\n",
        "  discountedprice = originalprice - (originalprice * discount)\n",
        "  taxamount = tax * discountedprice\n",
        "  totalprice = discountedprice + taxamount\n",
        "  print('original price:', originalprice)\n",
        "  print('discounted price:' , discountedprice)\n",
        "  print('taxamount:' , taxamount)\n",
        "  print('totalprice:' , totalprice)\n",
        "calculate_totalprice(40, 0.3, 0.07)\n"
      ],
      "execution_count": null,
      "outputs": []
    }
  ]
}