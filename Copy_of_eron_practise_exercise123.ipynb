{
  "nbformat": 4,
  "nbformat_minor": 0,
  "metadata": {
    "colab": {
      "name": "Copy of eron practise exercise.ipynb",
      "provenance": [],
      "collapsed_sections": [],
      "mount_file_id": "1cdF1icl_TqSoVMhcintoexh2kHQRg9d1",
      "authorship_tag": "ABX9TyOTVust0Grz6NNu1JthEDDc",
      "include_colab_link": true
    },
    "kernelspec": {
      "name": "python3",
      "display_name": "Python 3"
    },
    "language_info": {
      "name": "python"
    }
  },
  "cells": [
    {
      "cell_type": "markdown",
      "metadata": {
        "id": "view-in-github",
        "colab_type": "text"
      },
      "source": [
        "<a href=\"https://colab.research.google.com/github/Yashneil06/python/blob/assignment/Copy_of_eron_practise_exercise123.ipynb\" target=\"_parent\"><img src=\"https://colab.research.google.com/assets/colab-badge.svg\" alt=\"Open In Colab\"/></a>"
      ]
    },
    {
      "cell_type": "code",
      "execution_count": null,
      "metadata": {
        "id": "6N4XOCeIJNFE"
      },
      "outputs": [],
      "source": [
        "import sqlite3\n",
        "import datetime\n",
        "import matplotlib.pyplot, pandas as plt\n"
      ]
    },
    {
      "cell_type": "code",
      "source": [
        "conn = sqlite3.connect('/content/drive/MyDrive/extract (2).db')"
      ],
      "metadata": {
        "id": "lhQzsHgCJw7l"
      },
      "execution_count": null,
      "outputs": []
    },
    {
      "cell_type": "code",
      "source": [
        "cur = conn.cursor()\n",
        "rows = cur.execute(\"SELECT * FROM employeelist\")\n",
        "for row in rows:\n",
        "  print(row)"
      ],
      "metadata": {
        "id": "2dQbKUKmJ4p0"
      },
      "execution_count": null,
      "outputs": []
    },
    {
      "cell_type": "code",
      "source": [
        "\n",
        "cur.execute('SELECT * FROM message')\n",
        "fetchedData = cur.fetchall()\n",
        "for row in fetchedData:\n",
        "  message_id = row[3]\n",
        "  date = row[2]\n",
        "  print(\"Date and time : \" , date )\n",
        "  print('message_id : ' , message_id)"
      ],
      "metadata": {
        "id": "kY3c4ZQ-M3C8"
      },
      "execution_count": null,
      "outputs": []
    },
    {
      "cell_type": "code",
      "source": [
        "sql = ''' \n",
        "SELECT date(date) AS date_sent, count(mid) AS message_count\n",
        " FROM message\n",
        " GROUP BY date_sent\n",
        " ORDER BY date_sent;\n",
        " '''\n",
        "cur = conn.cursor()\n",
        "rows = cur.execute(sql)\n",
        "for row in rows:\n",
        "  print(row)"
      ],
      "metadata": {
        "id": "Plo2mcG-PWqO",
        "colab": {
          "base_uri": "https://localhost:8080/"
        },
        "outputId": "d2f412bb-5260-4f87-cdce-66ed8c14cb93"
      },
      "execution_count": null,
      "outputs": [
        {
          "output_type": "stream",
          "name": "stdout",
          "text": [
            "('2000-01-21', 1)\n",
            "('2000-01-24', 2)\n",
            "('2000-02-02', 1)\n",
            "('2000-02-07', 1)\n",
            "('2000-05-17', 1)\n",
            "('2000-05-21', 1)\n",
            "('2000-06-07', 1)\n",
            "('2000-06-21', 1)\n",
            "('2000-06-27', 1)\n",
            "('2000-07-10', 1)\n",
            "('2000-07-25', 1)\n",
            "('2000-07-27', 1)\n",
            "('2000-07-31', 2)\n",
            "('2000-08-02', 2)\n",
            "('2000-08-03', 3)\n",
            "('2000-08-04', 3)\n",
            "('2000-08-07', 2)\n",
            "('2000-08-08', 1)\n",
            "('2000-08-09', 2)\n",
            "('2000-08-11', 2)\n",
            "('2000-08-14', 2)\n",
            "('2000-08-15', 2)\n",
            "('2000-08-16', 3)\n",
            "('2000-08-17', 3)\n",
            "('2000-08-18', 1)\n",
            "('2000-08-20', 2)\n",
            "('2000-08-21', 1)\n",
            "('2000-08-22', 6)\n",
            "('2000-08-23', 9)\n",
            "('2000-08-24', 16)\n",
            "('2000-08-25', 15)\n",
            "('2000-08-26', 5)\n",
            "('2000-08-27', 1)\n",
            "('2000-08-28', 16)\n",
            "('2000-08-29', 22)\n"
          ]
        }
      ]
    },
    {
      "cell_type": "code",
      "source": [
        "sql = ''' \n",
        "SELECT sender, count(mid) AS message_count\n",
        " FROM message\n",
        " GROUP BY sender\n",
        " ORDER BY message_count DESC\n",
        " LIMIT 10;\n",
        "\n",
        " '''\n",
        "cur = conn.cursor()\n",
        "rows = cur.execute(sql)\n",
        "for row in rows:\n",
        "  print(row)"
      ],
      "metadata": {
        "colab": {
          "base_uri": "https://localhost:8080/"
        },
        "id": "XGqj41UFiSOI",
        "outputId": "75e31f5c-8569-45cb-a6e4-9e945223e85c"
      },
      "execution_count": null,
      "outputs": [
        {
          "output_type": "stream",
          "name": "stdout",
          "text": [
            "('carla.hoffman@enron.com', 15)\n",
            "('office.chairman@enron.com', 10)\n",
            "('enron.announcements@enron.com', 9)\n",
            "('crcommunications@caiso.com', 8)\n",
            "('awe@caiso.com', 7)\n",
            "('cgrant@caiso.com', 6)\n",
            "('shari.stack@enron.com', 5)\n",
            "('bwoertz@caiso.com', 4)\n",
            "('jblatchford@caiso.com', 4)\n",
            "('shapp@caiso.com', 4)\n"
          ]
        }
      ]
    },
    {
      "cell_type": "code",
      "source": [
        "import matplotlib.pyplot as plt\n",
        "import pandas\n",
        "sql = ''' \n",
        "SELECT date(date) AS date_sent, count(mid) AS message_count\n",
        " FROM message\n",
        " GROUP BY date_sent\n",
        " ORDER BY date_sent;\n",
        " '''\n",
        "data = pandas.read_sql(sql,conn)\n",
        "plt.bar(data.date_sent, data.message_count)\n",
        "plt.show()"
      ],
      "metadata": {
        "colab": {
          "base_uri": "https://localhost:8080/",
          "height": 265
        },
        "id": "wH4UAoa_k8o3",
        "outputId": "e9761dfe-0eac-4443-ae2d-b5ad2b705554"
      },
      "execution_count": null,
      "outputs": [
        {
          "output_type": "display_data",
          "data": {
            "text/plain": [
              "<Figure size 432x288 with 1 Axes>"
            ],
            "image/png": "[encoded data removed]"
          },
          "metadata": {
            "needs_background": "light"
          }
        }
      ]
    },
    {
      "cell_type": "code",
      "source": [
        "sql = ''' \n",
        "SELECT sender as send, count(mid) AS message_count\n",
        " FROM message\n",
        " GROUP BY sender\n",
        " ORDER BY message_count DESC\n",
        " LIMIT 10;\n",
        "\n",
        " '''\n",
        "# naming the x axis\n",
        "plt.xlabel('sender')\n",
        "# naming the y axis\n",
        "plt.ylabel('count')\n",
        "plt.title('TOP ten senders')\n",
        "data = pandas.read_sql(sql,conn)\n",
        "plt.bar(data.send, data.message_count)\n",
        "plt.show()"
      ],
      "metadata": {
        "colab": {
          "base_uri": "https://localhost:8080/",
          "height": 295
        },
        "id": "SVkmzou9m7Sg",
        "outputId": "e4cb31c4-653f-4110-fc7c-ae33696e701c"
      },
      "execution_count": null,
      "outputs": [
        {
          "output_type": "display_data",
          "data": {
            "text/plain": [
              "<Figure size 432x288 with 1 Axes>"
            ],
            "image/png": "[encoded data removed]"
          },
          "metadata": {
            "needs_background": "light"
          }
        }
      ]
    }
  ]
}